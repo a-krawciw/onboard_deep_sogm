{
  "cells": [
    {
      "cell_type": "markdown",
      "metadata": {
        "id": "7rGkp1ilbt8-"
      },
      "source": [
        "# Reinforcement Learning Notebook\n",
        "\n",
        "## AER1516 Final Project, Spring 2023\n",
        "\n",
        "This notebook contains code to pre-train the project's RL model in a mock environment (\"simulation of a simulation\"). The goal is to create a simple RL agent which learns to navigate while avoiding regions of high uncertainty.\n",
        "\n",
        "RL training code is based on https://pytorch.org/tutorials/intermediate/reinforcement_q_learning.html"
      ]
    },
    {
      "cell_type": "code",
      "execution_count": null,
      "metadata": {
        "colab": {
          "base_uri": "https://localhost:8080/"
        },
        "id": "XtIzIwdICeQR",
        "outputId": "fd0b6385-e184-4986-a52a-17d2a32fe6b0"
      },
      "outputs": [
        {
          "name": "stdout",
          "output_type": "stream",
          "text": [
            "Requirement already satisfied: gymnasium in c:\\users\\evanc\\documents\\ml\\jupyenv\\lib\\site-packages (0.28.1)\n",
            "Requirement already satisfied: typing-extensions>=4.3.0 in c:\\users\\evanc\\documents\\ml\\jupyenv\\lib\\site-packages (from gymnasium) (4.5.0)\n",
            "Requirement already satisfied: importlib-metadata>=4.8.0 in c:\\users\\evanc\\documents\\ml\\jupyenv\\lib\\site-packages (from gymnasium) (5.0.0)\n",
            "Requirement already satisfied: jax-jumpy>=1.0.0 in c:\\users\\evanc\\documents\\ml\\jupyenv\\lib\\site-packages (from gymnasium) (1.0.0)\n",
            "Requirement already satisfied: cloudpickle>=1.2.0 in c:\\users\\evanc\\documents\\ml\\jupyenv\\lib\\site-packages (from gymnasium) (2.2.1)\n",
            "Requirement already satisfied: farama-notifications>=0.0.1 in c:\\users\\evanc\\documents\\ml\\jupyenv\\lib\\site-packages (from gymnasium) (0.0.4)\n",
            "Requirement already satisfied: numpy>=1.21.0 in c:\\users\\evanc\\documents\\ml\\jupyenv\\lib\\site-packages (from gymnasium) (1.21.4)\n",
            "Requirement already satisfied: zipp>=0.5 in c:\\users\\evanc\\documents\\ml\\jupyenv\\lib\\site-packages (from importlib-metadata>=4.8.0->gymnasium) (3.10.0)\n",
            "Note: you may need to restart the kernel to use updated packages.\n"
          ]
        },
        {
          "name": "stderr",
          "output_type": "stream",
          "text": [
            "WARNING: You are using pip version 21.3.1; however, version 23.0.1 is available.\n",
            "You should consider upgrading via the 'C:\\Users\\EvanC\\Documents\\ML\\jupyenv\\Scripts\\python.exe -m pip install --upgrade pip' command.\n"
          ]
        }
      ],
      "source": [
        "# https://github.com/Farama-Foundation/Gymnasium\n",
        "%pip install gymnasium"
      ]
    },
    {
      "cell_type": "code",
      "execution_count": null,
      "metadata": {
        "colab": {
          "base_uri": "https://localhost:8080/"
        },
        "id": "Jj11dGf8bt9B",
        "outputId": "14b87cfb-4d38-43b4-ead4-2296c9157bbc"
      },
      "outputs": [
        {
          "name": "stdout",
          "output_type": "stream",
          "text": [
            "Requirement already satisfied: imageio in c:\\users\\evanc\\documents\\ml\\jupyenv\\lib\\site-packages (2.27.0)\n",
            "Requirement already satisfied: pillow>=8.3.2 in c:\\users\\evanc\\documents\\ml\\jupyenv\\lib\\site-packages (from imageio) (8.4.0)\n",
            "Requirement already satisfied: numpy in c:\\users\\evanc\\documents\\ml\\jupyenv\\lib\\site-packages (from imageio) (1.21.4)\n",
            "Note: you may need to restart the kernel to use updated packages.\n"
          ]
        },
        {
          "name": "stderr",
          "output_type": "stream",
          "text": [
            "WARNING: You are using pip version 21.3.1; however, version 23.0.1 is available.\n",
            "You should consider upgrading via the 'C:\\Users\\EvanC\\Documents\\ML\\jupyenv\\Scripts\\python.exe -m pip install --upgrade pip' command.\n"
          ]
        }
      ],
      "source": [
        "# For saving gifs\n",
        "%pip install imageio"
      ]
    },
    {
      "cell_type": "code",
      "execution_count": null,
      "metadata": {
        "colab": {
          "base_uri": "https://localhost:8080/"
        },
        "id": "H9p1EpSWDFM4",
        "outputId": "7191cc44-afc5-446f-d365-bfed046df39a"
      },
      "outputs": [
        {
          "name": "stdout",
          "output_type": "stream",
          "text": [
            ">> Device = cuda\n"
          ]
        },
        {
          "name": "stderr",
          "output_type": "stream",
          "text": [
            "C:\\Users\\EvanC\\Documents\\ML\\jupyenv\\lib\\site-packages\\tqdm\\auto.py:22: TqdmWarning: IProgress not found. Please update jupyter and ipywidgets. See https://ipywidgets.readthedocs.io/en/stable/user_install.html\n",
            "  from .autonotebook import tqdm as notebook_tqdm\n"
          ]
        }
      ],
      "source": [
        "####################################################################################################\n",
        "# Imports, config, and utils\n",
        "####################################################################################################\n",
        "\n",
        "import gymnasium as gym\n",
        "import math\n",
        "import random\n",
        "from datetime import datetime\n",
        "from time import sleep\n",
        "import matplotlib\n",
        "import matplotlib.pyplot as plt\n",
        "from itertools import count\n",
        "import pickle as pk\n",
        "import imageio\n",
        "import os\n",
        "\n",
        "import torch\n",
        "import torch.nn as nn\n",
        "import torch.optim as optim\n",
        "import torch.nn.functional as F\n",
        "import numpy as np\n",
        "\n",
        "# Project dependency\n",
        "import replay_memory\n",
        "\n",
        "# set up matplotlib\n",
        "is_ipython = 'inline' in matplotlib.get_backend()\n",
        "if is_ipython:\n",
        "    from IPython import display\n",
        "plt.ion()\n",
        "\n",
        "SOGM_DIM = 95\n",
        "SHOW_BREADCRUMBS = True\n",
        "SAVE_FRAMES = True\n",
        "SEED = 1337\n",
        "\n",
        "random.seed(SEED)\n",
        "np.random.seed(SEED)\n",
        "torch.manual_seed(SEED)\n",
        "torch.backends.cudnn.deterministic = True\n",
        "torch.backends.cudnn.benchmark = False\n",
        "\n",
        "# Util for measuring time intervals. To profile, measure start and end time using time.now()\n",
        "time = datetime.utcnow()\n",
        "def delta_t(a, b):\n",
        "    return abs(a-b).total_seconds()\n",
        "\n",
        "# if gpu is to be used\n",
        "device = torch.device(\"cuda\" if torch.cuda.is_available() else \"cpu\")\n",
        "print(\">> Device =\", device)"
      ]
    },
    {
      "cell_type": "markdown",
      "metadata": {
        "id": "olFiemQpIzPI"
      },
      "source": [
        "We'll leverage Farama foundation's Gymnasium library (formerly OpenAI's Gym) for connecting our RL model to an envorinment it can interact with and learn from. Specifically, we define `MockEnv` class for pretraining with synthetic data.\n",
        "\n",
        "Useful links:\n",
        " - Core Env class: https://github.com/Farama-Foundation/Gymnasium/blob/main/gymnasium/core.py#L21\n",
        " - Blog post on creating a gym env: https://blog.paperspace.com/creating-custom-environments-openai-gym/"
      ]
    },
    {
      "cell_type": "markdown",
      "metadata": {
        "id": "jFoOnL2wbt9C"
      },
      "source": [
        "## Helpers and Environment Definitions"
      ]
    },
    {
      "cell_type": "code",
      "execution_count": null,
      "metadata": {
        "id": "6reBqrVeoYLQ"
      },
      "outputs": [],
      "source": [
        "# Utility for making 2D Gaussian blur kernels\n",
        "def make_blur_kernel(kernel_size, sigma):\n",
        "    # Create 2D convolution object\n",
        "    conv = nn.Conv2d(1, 1, kernel_size, padding = kernel_size // 2, bias=False)\n",
        "\n",
        "    # Generate kernel values\n",
        "    kernel = torch.zeros(kernel_size, kernel_size)\n",
        "    for i in range(kernel_size):\n",
        "        for j in range(kernel_size):\n",
        "            x, y = i - (kernel_size // 2), j - (kernel_size // 2)\n",
        "            kernel[i, j] = np.exp(-(x ** 2 + y ** 2) / (2 * sigma ** 2))\n",
        "    kernel = kernel / (2 * np.pi * sigma ** 2)\n",
        "\n",
        "    # Normalize and return the 2D convolution object\n",
        "    conv.weight.data[0, 0] = kernel / kernel.sum()\n",
        "    return conv\n",
        "\n",
        "# Utility for applying a convolution kernel to a 2D, unbatched input tensor\n",
        "def apply_kernel(input, kernel):\n",
        "    dim = list(input.size())\n",
        "    with torch.no_grad():\n",
        "        # Unsqueeze and squeeze *twice* to add a channel and batch dimension\n",
        "        output = kernel(input.unsqueeze(0).unsqueeze(0)).squeeze(0).squeeze(0)[0:dim[0], 0:dim[1]]\n",
        "    return output\n",
        "\n",
        "# Utility for drawing centered, circular masks in 2D tensors\n",
        "def circle_mask(size, radius):\n",
        "    x, y = torch.meshgrid(torch.arange(size), torch.arange(size))\n",
        "    return ((x - size//2)**2 + (y - size//2)**2 <= radius**2).float()\n",
        "\n",
        "# Utility for normalizing SOGMs to have a maximum value of 1.0\n",
        "def normalize_sogm(sogm):\n",
        "    if sogm.max() > 1e-4:\n",
        "        sogm = sogm / sogm.max()\n",
        "    return sogm\n",
        "\n",
        "# Simpler helper for rotating 2D cartesian coordinates\n",
        "def rotate(x, y, theta):\n",
        "    x_ = x * np.cos(theta) - y * np.sin(theta)\n",
        "    y_ = x * np.sin(theta) + y * np.cos(theta)\n",
        "    return x_, y_\n"
      ]
    },
    {
      "cell_type": "code",
      "execution_count": null,
      "metadata": {
        "id": "ZSGnnIhkGJKw"
      },
      "outputs": [],
      "source": [
        "####################################################################################################\n",
        "# Environment classes\n",
        "####################################################################################################\n",
        "\n",
        "class MockAgent():\n",
        "    def __init__(self, x, y, theta, v=1.0):\n",
        "        self.x = x # m\n",
        "        self.y = y # m\n",
        "        self.theta = theta # rad\n",
        "        self.v = v # m/s\n",
        "\n",
        "    def tick(self, dt):\n",
        "        self.x += dt * self.v * np.cos(self.theta)\n",
        "        self.y += dt * self.v * np.sin(self.theta)\n",
        "\n",
        "class MockEnv(gym.Env):\n",
        "    \"\"\"\n",
        "    Premise: a 2D, top-down view of a large arena filled with a handful of point\n",
        "      obstacles randomly moving in straight lines. The agent starts in the middle of \n",
        "      the arena and drives for a fixed amount of time. The agent can:\n",
        "      - veer left       (action = 0)\n",
        "      - remain straight (action = 1)\n",
        "      - veer right      (action = 2)\n",
        "      \n",
        "      Note: collisions between the agent and obstacles are not considered.\n",
        "      \n",
        "      The observed state space is a blurred \"heatmap\" of the occupancy grid plus\n",
        "      a short projection of future motion. A close radius around the agent is\n",
        "      blurred a larger amount, indicating greater uncertainty when the agent is\n",
        "      within interaction distance of obstacles.\n",
        "\n",
        "      The reward is a combination of:\n",
        "      - A turning penalty, creating a preference for driving straight\n",
        "      - The negative sum of the entropy of all occupancy grid elements.\n",
        "      \n",
        "      Together, these will reward the agent for driving straight while avoiding highly uncertain regions.\n",
        "    \"\"\"\n",
        "    def __init__(self):\n",
        "        super(MockEnv, self).__init__()\n",
        "\n",
        "        # Action space:\n",
        "        self.action_space = gym.spaces.Discrete(3,) # left, straight, right\n",
        "\n",
        "        self.arena_dim = 30      # Meters\n",
        "        self.pixel_size = 0.12   # Each pixel is this many meters\n",
        "        self.obstacle_count = 10\n",
        "        self.obstacles = [None]*self.obstacle_count\n",
        "        self.time = 0.0          # Seconds\n",
        "        self.frame_index = 0\n",
        "        self.delta_t = 0.5       # Seconds\n",
        "        self.agent_history = []\n",
        "\n",
        "        # Define a Gaussian kernel for blurring the map\n",
        "        self.blur_conv = make_blur_kernel(12, 3.0)\n",
        "\n",
        "        # Create two blurred masks for adjusting how the environment is perceived and reward is calculated\n",
        "        self.proximity_mask = circle_mask(SOGM_DIM, 10.0)\n",
        "        self.proximity_mask = apply_kernel(self.proximity_mask, self.blur_conv)\n",
        "\n",
        "        # Wrap up!\n",
        "        self.reset()\n",
        "        return\n",
        "\n",
        "\n",
        "    # Helper utility for drawing single pixels onto the SOGM with handrolled antialiasing.\n",
        "    # Input: sogm - 2D SOGM tensor image\n",
        "    #        x, y - pixel coordinate in meters. \n",
        "    # Note: 0,0 is drawn to the center of the SOGM, with +x = up, and +y = left.\n",
        "    def render_point(self, sogm, x, y, alpha=1.0):\n",
        "        x_ = (-x / self.pixel_size) + math.floor(SOGM_DIM/2)\n",
        "        y_ = (-y / self.pixel_size) + math.floor(SOGM_DIM/2)\n",
        "        i = math.floor(y_) # Columns\n",
        "        j = math.floor(x_) # Rows\n",
        "        dx, dy = x_ - j, y_ - i\n",
        "        \n",
        "        if i > 0 and i < SOGM_DIM-1:\n",
        "          if j > 0 and j < SOGM_DIM-1:\n",
        "            # Fill the nearest four pixels with anti-aliasing\n",
        "            sogm[j, i]     += (1 - dx) * (1 - dy) * alpha\n",
        "            sogm[j+1, i]   += dx * (1 - dy) * alpha\n",
        "            sogm[j, i+1]   += (1 - dx) * dy * alpha\n",
        "            sogm[j+1, i+1] += dx * dy * alpha\n",
        "        return\n",
        "\n",
        "\n",
        "    # Helper utility for drawing single pixels onto the SOGM by taking the max of the SOGM and new pixel values\n",
        "    # Input: sogm - 2D SOGM tensor image\n",
        "    #        x, y - pixel coordinate in meters\n",
        "    # Note: 0,0 is drawn to the center of the SOGM, with +x = up, and +y = left.\n",
        "    def render_point_max(self, canvas, x, y, alpha=1.0):\n",
        "        x_ = (-x / self.pixel_size) + math.floor(SOGM_DIM/2)\n",
        "        y_ = (-y / self.pixel_size) + math.floor(SOGM_DIM/2)\n",
        "        i = math.floor(y_) # Columns\n",
        "        j = math.floor(x_) # Rows\n",
        "        dx, dy = x_ - j, y_ - i\n",
        "\n",
        "        if i > 0 and i < SOGM_DIM-1:\n",
        "          if j > 0 and j < SOGM_DIM-1:\n",
        "            # Fill the nearest four pixels with anti-aliasing\n",
        "            canvas[j, i]     = max((1 - dx) * (1 - dy) * alpha, canvas[j, i])\n",
        "            canvas[j+1, i]   = max(dx * (1 - dy) * alpha, canvas[j+1, i])\n",
        "            canvas[j, i+1]   = max((1 - dx) * dy * alpha, canvas[j, i+1])\n",
        "            canvas[j+1, i+1] = max(dx * dy * alpha, canvas[j+1, i+1])\n",
        "        return\n",
        "    \n",
        "\n",
        "    # Render an obstacle's SOGM for a single point prediction.\n",
        "    # Note: Full SOGMs are a composite of multiple point predictions along a trajectory.\n",
        "    def draw_obstacle_sogm(self, x, y, alpha):\n",
        "        # Render a point and apply Gaussian blur\n",
        "        output = torch.zeros(SOGM_DIM, SOGM_DIM, requires_grad=False)\n",
        "        self.render_point(output, x, y, alpha)\n",
        "        output = apply_kernel(output, self.blur_conv)\n",
        "\n",
        "        # Normalize visible SOGMs\n",
        "        output = normalize_sogm(output)\n",
        "\n",
        "        # Floor and apply alpha\n",
        "        mask = (output >= (200./255.))\n",
        "        output = alpha * output * mask\n",
        "\n",
        "        return output\n",
        "\n",
        "\n",
        "    def draw_sogm(self):\n",
        "        sogm = torch.zeros(SOGM_DIM, SOGM_DIM, requires_grad=False)\n",
        "\n",
        "        # Render obstaces\n",
        "        for obstacle in self.obstacles:\n",
        "            # Project obstacle's motion into the future\n",
        "            time_horizon = 1.5 # Seconds\n",
        "            for t in np.linspace(0.0, time_horizon, math.ceil(time_horizon * obstacle.v / self.pixel_size)):\n",
        "                obstacle_future_x = obstacle.x + obstacle.v * t * np.cos(obstacle.theta)\n",
        "                obstacle_future_y = obstacle.y + obstacle.v * t * np.sin(obstacle.theta)\n",
        "                dx, dy = rotate(obstacle_future_x - self.agent.x, \\\n",
        "                                obstacle_future_y - self.agent.y, \\\n",
        "                                -self.agent.theta)\n",
        "                obstacle_point_sogm = self.draw_obstacle_sogm(dx, dy, alpha = 1. - t/time_horizon)\n",
        "                sogm = torch.maximum(sogm, obstacle_point_sogm)\n",
        "\n",
        "        # Blur the SOGM in the center region, causing a sharp increase in uncertainty close to obstacles\n",
        "        close_sogm = self.proximity_mask * sogm\n",
        "        sogm_blurred = 0.5 * torch.ones_like(sogm) * close_sogm.max()\n",
        "        sogm = sogm_blurred * self.proximity_mask + \\\n",
        "               sogm * (1.0 - self.proximity_mask)\n",
        "\n",
        "        # Normalize the image\n",
        "        sogm = normalize_sogm(sogm)\n",
        "\n",
        "        return sogm\n",
        "\n",
        "\n",
        "    # Execute one time step within the environment\n",
        "    def step(self, action):\n",
        "        self.time += self.delta_t\n",
        "        self.frame_index += 1\n",
        "        \n",
        "        # Assert that the given action is valid\n",
        "        assert self.action_space.contains(action), \"Invalid Action\"\n",
        "\n",
        "        if action == 0:\n",
        "          # LEFT\n",
        "          self.agent.theta += np.pi/10.0 # 18 degrees\n",
        "        elif action == 1:\n",
        "          # STRAIGHT\n",
        "          pass\n",
        "        elif action == 2:\n",
        "          # RIGHT\n",
        "          self.agent.theta -= np.pi/10.0 # 18 degrees\n",
        "\n",
        "        self.agent.tick(self.delta_t)\n",
        "        self.agent_history.append((self.agent.x, self.agent.y))\n",
        "        \n",
        "        for obstacle in self.obstacles:\n",
        "            obstacle.tick(self.delta_t)\n",
        "  \n",
        "        observation = self.draw_sogm()\n",
        "\n",
        "        # Calculate the reward as the entropy of a distance-weighted, normalized view of the observation\n",
        "        eps = 1e-3 # Small value for numerical stability\n",
        "        probability_field = (1. - 2 * eps) * observation + eps\n",
        "\n",
        "        # Reward is sum of the negative entropy of all pixels\n",
        "        reward = torch.sum(probability_field * torch.log(probability_field) +\n",
        "                          (1. - probability_field) * torch.log(1. - probability_field))\n",
        "        \n",
        "        # Add reward term to penalize turning\n",
        "        if action != 1:\n",
        "            reward -= 100.0\n",
        "        \n",
        "        terminated = (self.time > 15.0) \n",
        "        truncated = False\n",
        "        info = None\n",
        "        return observation, reward, terminated, truncated, info \n",
        "\n",
        "\n",
        "    # Reset the state of the environment to an initial state\n",
        "    def reset(self):\n",
        "        self.time = 0.0\n",
        "        self.frame_index = 0\n",
        "        \n",
        "        # Start our agent in the center of the arena, theta=0 (moving right across arena)\n",
        "        self.agent = MockAgent(self.arena_dim/2.0, self.arena_dim/2.0, 0.0)\n",
        "        self.agent.v = 1.0\n",
        "        self.agent_history = [(self.agent.x, self.agent.y)]\n",
        "        \n",
        "        # Populate random obstacles within the arena.\n",
        "        x_offset = self.arena_dim * 0.25\n",
        "        self.obstacles = [MockAgent(random.uniform(0.0, self.arena_dim),\n",
        "                                    random.uniform(0.0, self.arena_dim),\n",
        "                                    random.uniform(0.0, 2*np.pi),\n",
        "                                    random.uniform(0.0, 1.2)) for i in range(self.obstacle_count)]\n",
        "        \n",
        "        # Re-init obstacles close to the agent. Repeat 10 times to make overlap statistically improbable.\n",
        "        for i in range(10):\n",
        "          for obstacle in self.obstacles:\n",
        "              if np.hypot(obstacle.x-self.agent.x, obstacle.y-self.agent.y) < 3.0:\n",
        "                  obstacle.x, obstacle.y = random.uniform(0.0, self.arena_dim), random.uniform(0.0, self.arena_dim)\n",
        "\n",
        "        observation = self.draw_sogm()\n",
        "        return observation, None\n",
        "\n",
        "\n",
        "    # Render the environment to the screen\n",
        "    def render(self, mode='human', close=False):\n",
        "        sogm = self.draw_sogm()\n",
        "\n",
        "        # Draw the agent history\n",
        "        if SHOW_BREADCRUMBS:\n",
        "            for (x, y) in self.agent_history:\n",
        "                dx, dy = rotate(x - self.agent.x, \\\n",
        "                                y - self.agent.y, \\\n",
        "                                -self.agent.theta)\n",
        "                self.render_point_max(sogm, dx, dy, alpha = 1.0)\n",
        "\n",
        "        plt.imshow(sogm, cmap='gray')\n",
        "        \n",
        "        # Save animation frames to make a gif later\n",
        "        if SAVE_FRAMES:\n",
        "            plt.imsave(\"sogm_{}.png\".format(self.frame_index), sogm, cmap='gray')\n",
        "        plt.show()\n",
        "        return\n",
        "\n",
        "\n",
        "    def close(self):\n",
        "        # Tear down and clean up\n",
        "        pass"
      ]
    },
    {
      "cell_type": "markdown",
      "metadata": {
        "id": "C0H95mWRbt9F"
      },
      "source": [
        "## Visualizing our Mock Environment"
      ]
    },
    {
      "cell_type": "code",
      "execution_count": null,
      "metadata": {
        "colab": {
          "base_uri": "https://localhost:8080/",
          "height": 903
        },
        "id": "WTuqt7HHYwgB",
        "outputId": "3b5f56e3-7f87-4abf-a797-6c8d820d90b3"
      },
      "outputs": [
        {
          "data": {
            "image/png": "[encoded data removed]",
            "text/plain": [
              "<Figure size 432x288 with 1 Axes>"
            ]
          },
          "metadata": {
            "needs_background": "light"
          },
          "output_type": "display_data"
        },
        {
          "data": {
            "image/png": "[encoded data removed]",
            "text/plain": [
              "<Figure size 432x288 with 1 Axes>"
            ]
          },
          "metadata": {
            "needs_background": "light"
          },
          "output_type": "display_data"
        },
        {
          "name": "stdout",
          "output_type": "stream",
          "text": [
            "<terminated>\n",
            "Simulation complete!\n"
          ]
        }
      ],
      "source": [
        "# Run the environment for a few seconds!\n",
        "env = MockEnv()\n",
        "\n",
        "rewards = []\n",
        "\n",
        "for i in range(1000):\n",
        "    action = 1 # Go straight.\n",
        "    observation, reward, terminated, truncated, info = env.step(action)\n",
        "    rewards.append(reward)\n",
        "   \n",
        "    plt.pause(0.02)\n",
        "    if is_ipython:\n",
        "        display.display(plt.gcf())\n",
        "        display.clear_output(wait=True)\n",
        "\n",
        "    # Render the environment\n",
        "    env.render()\n",
        "    \n",
        "    plt.title(\"Reward vs time\")\n",
        "    plt.plot(rewards)\n",
        "    plt.show()\n",
        "        \n",
        "    if terminated or truncated:\n",
        "        print(\"<terminated>\")\n",
        "        break\n",
        "        \n",
        "print(\"Simulation complete!\")"
      ]
    },
    {
      "cell_type": "markdown",
      "metadata": {
        "id": "9VZvMCuobt9G"
      },
      "source": [
        "## Model Definition"
      ]
    },
    {
      "cell_type": "code",
      "execution_count": null,
      "metadata": {
        "id": "OI0-XgVxDRt_"
      },
      "outputs": [],
      "source": [
        "import torch\n",
        "import torch.nn as nn\n",
        "\n",
        "class DQN(nn.Module):\n",
        "    def __init__(self, input_size=95, n_actions=3):\n",
        "        super(DQN, self).__init__()\n",
        "        self.inner_dim = 32 * 6 * 6 # Depends on input size\n",
        "        self.pre_pool = nn.MaxPool2d(kernel_size=3)\n",
        "        self.conv1 = nn.Conv2d(1, 16, kernel_size=3, stride=1)\n",
        "        self.pool1 = nn.MaxPool2d(kernel_size=2)\n",
        "        self.conv2 = nn.Conv2d(16, 32, kernel_size=3, stride=1)\n",
        "        self.pool2 = nn.MaxPool2d(kernel_size=2)\n",
        "        self.fc1 = nn.Linear(self.inner_dim, 512)\n",
        "        self.fc2 = nn.Linear(512, n_actions)\n",
        "\n",
        "    def forward(self, x):\n",
        "        # Add a channel dimension so we can put our [BATCH, DIM, DIM] 2D map through a convnet\n",
        "        x = x.unsqueeze(1)\n",
        "        # x.size() = torch.Size([B, 1, 95, 95])\n",
        "        x = self.pre_pool(x)\n",
        "        # x.size() = torch.Size([1, 1, 31, 31])\n",
        "        x = self.conv1(x)\n",
        "        x = self.pool1(x)\n",
        "        x = torch.relu(x)\n",
        "        # x.size() = torch.Size([1, 16, 14, 14])\n",
        "        x = self.conv2(x)\n",
        "        x = self.pool2(x)\n",
        "        x = torch.relu(x)\n",
        "        # x.size() = torch.Size([1, 32, 6, 6])\n",
        "        x = x.view(-1, self.inner_dim)\n",
        "        x = torch.relu(self.fc1(x))\n",
        "        x = self.fc2(x)\n",
        "        return x\n"
      ]
    },
    {
      "cell_type": "markdown",
      "metadata": {
        "id": "fgvQbKajbt9H"
      },
      "source": [
        "## RL Training Code"
      ]
    },
    {
      "cell_type": "code",
      "execution_count": null,
      "metadata": {
        "id": "tODWcSu5DWPR"
      },
      "outputs": [],
      "source": [
        "env = MockEnv()\n",
        "\n",
        "# BATCH_SIZE is the number of transitions sampled from the replay buffer\n",
        "# GAMMA is the discount factor as mentioned in the previous section\n",
        "# EPS_START is the starting value of epsilon\n",
        "# EPS_END is the final value of epsilon\n",
        "# EPS_DECAY controls the rate of exponential decay of epsilon, higher means a slower decay\n",
        "# TAU is the update rate of the target network\n",
        "# LR is the learning rate of the AdamW optimizer\n",
        "\n",
        "BATCH_SIZE = 50\n",
        "GAMMA = 0.977\n",
        "EPS_START = 0.9\n",
        "EPS_END = 0.05\n",
        "EPS_DECAY = 300\n",
        "TAU = 0.01\n",
        "LR = 1e-3\n",
        "\n",
        "# Get number of actions from gym action space\n",
        "n_actions = env.action_space.n\n",
        "# Get the number of state observations\n",
        "state, info = env.reset()\n",
        "\n",
        "policy_net = DQN(SOGM_DIM, n_actions).to(device)\n",
        "target_net = DQN(SOGM_DIM, n_actions).to(device)\n",
        "target_net.load_state_dict(policy_net.state_dict())\n",
        "\n",
        "optimizer = optim.AdamW(policy_net.parameters(), lr=LR, amsgrad=True)\n",
        "memory = replay_memory.ReplayMemory(500)\n",
        "pk.dump(memory, open(\"memory_bank.pkl\", \"wb\"))\n",
        "\n",
        "steps_done = 0\n",
        "episode_rewards = []\n",
        "\n",
        "def select_action(state):\n",
        "    global steps_done\n",
        "    sample = random.random()\n",
        "    eps_threshold = EPS_END + (EPS_START - EPS_END) * \\\n",
        "        math.exp(-1. * steps_done / EPS_DECAY)\n",
        "    steps_done += 1\n",
        "    if sample > eps_threshold:\n",
        "        with torch.no_grad():\n",
        "            # t.max(1) will return the largest column value of each row.\n",
        "            # second column on max result is index of where max element was\n",
        "            # found, so we pick action with the larger expected reward.\n",
        "            network_output = policy_net(state)\n",
        "            action = network_output.max(1)[1].view(1, 1)\n",
        "    else:\n",
        "        action = torch.tensor([[env.action_space.sample()]], device=device, dtype=torch.long)\n",
        "\n",
        "    return action\n",
        "\n",
        "\n",
        "def plot_rewards(show_result=False):\n",
        "\n",
        "    plt.pause(0.001)  # pause a bit so that plots are updated\n",
        "    if is_ipython:\n",
        "        if not show_result:\n",
        "            display.display(plt.gcf())\n",
        "            display.clear_output(wait=True)\n",
        "        else:\n",
        "            display.display(plt.gcf())\n",
        "\n",
        "    plt.figure(1)\n",
        "    rewards = torch.tensor(episode_rewards, dtype=torch.float)\n",
        "    rewards_filtered = rewards.clone().detach()\n",
        "\n",
        "    alpha = 0.1\n",
        "    for i in range(1, rewards_filtered.size()[0]):\n",
        "      rewards_filtered[i] = rewards_filtered[i] * alpha + rewards_filtered[i-1] * (1.-alpha)\n",
        "\n",
        "    if show_result:\n",
        "        plt.title('Result')\n",
        "    else:\n",
        "        plt.clf()\n",
        "        plt.title('Training...')\n",
        "    plt.xlabel('Episode')\n",
        "    plt.ylabel('Total Reward')\n",
        "    plt.plot(rewards.numpy(), label='Raw')\n",
        "    plt.plot(rewards_filtered.numpy(), c='orange', label='Filtered')\n",
        "    plt.legend(loc='best')\n",
        "    plt.show()"
      ]
    },
    {
      "cell_type": "code",
      "execution_count": null,
      "metadata": {
        "id": "m9m3OU9BDZdh"
      },
      "outputs": [],
      "source": [
        "def optimize_model():\n",
        "    # Fill up our memory bank first before optimizing on batches\n",
        "    if len(memory) < BATCH_SIZE:\n",
        "        return\n",
        "\n",
        "    transitions = memory.sample(BATCH_SIZE)\n",
        "    # Transpose the batch (see https://stackoverflow.com/a/19343/3343043 for\n",
        "    # detailed explanation). This converts batch-array of Transitions\n",
        "    # to Transition of batch-arrays.\n",
        "    batch = replay_memory.Transition(*zip(*transitions))\n",
        "\n",
        "    # Compute a mask of non-final states and concatenate the batch elements\n",
        "    # (a final state would've been the one after which simulation ended)\n",
        "    non_final_mask = torch.tensor(tuple(map(lambda s: s is not None,\n",
        "                                          batch.next_state)), device=device, dtype=torch.bool)\n",
        "    non_final_next_states = torch.cat([s for s in batch.next_state\n",
        "                                                if s is not None])\n",
        "    state_batch = torch.cat(batch.state)\n",
        "    action_batch = torch.cat(batch.action)\n",
        "    reward_batch = torch.cat(batch.reward)\n",
        "\n",
        "    # Compute Q(s_t, a) - the model computes Q(s_t), then we select the\n",
        "    # columns of actions taken. These are the actions which would've been taken\n",
        "    # for each batch state according to policy_net\n",
        "    state_action_values = policy_net(state_batch).gather(1, action_batch)\n",
        "\n",
        "    # Compute V(s_{t+1}) for all next states.\n",
        "    # Expected values of actions for non_final_next_states are computed based\n",
        "    # on the \"older\" target_net; selecting their best reward with max(1)[0].\n",
        "    # This is merged based on the mask, such that we'll have either the expected\n",
        "    # state value or 0 in case the state was final.\n",
        "    next_state_values = torch.zeros(BATCH_SIZE, device=device)\n",
        "    with torch.no_grad():\n",
        "        next_state_values[non_final_mask] = target_net(non_final_next_states).max(1)[0]\n",
        "    # Compute the expected Q values\n",
        "    expected_state_action_values = (next_state_values * GAMMA) + reward_batch\n",
        "\n",
        "    # Compute Huber loss\n",
        "    criterion = nn.SmoothL1Loss()\n",
        "    loss = criterion(state_action_values, expected_state_action_values.unsqueeze(1))\n",
        "\n",
        "    # Optimize the model\n",
        "    optimizer.zero_grad()\n",
        "    loss.backward()\n",
        "    # In-place gradient clipping\n",
        "    torch.nn.utils.clip_grad_value_(policy_net.parameters(), 100)\n",
        "    optimizer.step()"
      ]
    },
    {
      "cell_type": "code",
      "execution_count": null,
      "metadata": {
        "colab": {
          "base_uri": "https://localhost:8080/",
          "height": 905
        },
        "id": "_BGfwGwXDcxy",
        "outputId": "077f4257-140a-45b1-90b2-5c8d82d69575"
      },
      "outputs": [
        {
          "data": {
            "image/png": "[encoded data removed]",
            "text/plain": [
              "<Figure size 432x288 with 1 Axes>"
            ]
          },
          "metadata": {
            "needs_background": "light"
          },
          "output_type": "display_data"
        },
        {
          "name": "stdout",
          "output_type": "stream",
          "text": [
            "Complete\n"
          ]
        }
      ],
      "source": [
        "num_episodes = 200\n",
        "\n",
        "for i_episode in range(num_episodes):\n",
        "    # Initialize the environment and get its state\n",
        "    state, info = env.reset()\n",
        "    state = torch.tensor(state, dtype=torch.float32, device=device).unsqueeze(0)\n",
        "    total_reward = 0.0\n",
        "\n",
        "    memory = pk.load(open(\"memory_bank.pkl\", \"rb\"))\n",
        "    for t in count():\n",
        "        action = select_action(state)\n",
        "        observation, reward, terminated, truncated, _ = env.step(action.item())\n",
        "        reward = torch.tensor([reward], device=device)\n",
        "        total_reward += reward.item()\n",
        "        done = terminated or truncated\n",
        "\n",
        "        if terminated:\n",
        "            next_state = None\n",
        "        else:\n",
        "            next_state = torch.tensor(observation, dtype=torch.float32, device=device).unsqueeze(0)\n",
        "\n",
        "        # Store the transition in memory\n",
        "        memory.push(state, action, next_state, reward)\n",
        "\n",
        "        # Move to the next state\n",
        "        state = next_state\n",
        "\n",
        "        # Perform one step of the optimization (on the policy network)\n",
        "        optimize_model()\n",
        "\n",
        "        # Soft update of the target network's weights\n",
        "        # θ′ ← τ θ + (1 −τ )θ′\n",
        "        target_net_state_dict = target_net.state_dict()\n",
        "        policy_net_state_dict = policy_net.state_dict()\n",
        "        for key in policy_net_state_dict:\n",
        "            target_net_state_dict[key] = policy_net_state_dict[key]*TAU + target_net_state_dict[key]*(1-TAU)\n",
        "        target_net.load_state_dict(target_net_state_dict)\n",
        "        \n",
        "        if done:\n",
        "            print(\"Episode {} terminated.\".format(i_episode))\n",
        "            episode_rewards.append(total_reward)\n",
        "            plot_rewards()\n",
        "            break\n",
        "    pk.dump(memory, open(\"memory_bank.pkl\", \"wb\"))\n",
        "\n",
        "print('Complete')"
      ]
    },
    {
      "cell_type": "code",
      "execution_count": null,
      "metadata": {
        "id": "MnSBx2wFbt9J"
      },
      "outputs": [],
      "source": [
        "# Save network weights\n",
        "torch.save(policy_net.state_dict(), \"1516_policy_net_final.pt\")"
      ]
    },
    {
      "cell_type": "markdown",
      "metadata": {
        "id": "PuJ7u3lYbt9J"
      },
      "source": [
        "## Testing and Visualizing\n",
        "This animates the trained agent navigating in our mock environment, and we can optionally save a gif of this."
      ]
    },
    {
      "cell_type": "code",
      "execution_count": null,
      "metadata": {
        "id": "WbScyhg1MK_q",
        "outputId": "2fb71e96-6466-4dc7-e6e7-1db51526761d"
      },
      "outputs": [
        {
          "data": {
            "image/png": "[encoded data removed]",
            "text/plain": [
              "<Figure size 432x288 with 1 Axes>"
            ]
          },
          "metadata": {
            "needs_background": "light"
          },
          "output_type": "display_data"
        },
        {
          "data": {
            "image/png": "[encoded data removed]",
            "text/plain": [
              "<Figure size 432x288 with 1 Axes>"
            ]
          },
          "metadata": {
            "needs_background": "light"
          },
          "output_type": "display_data"
        },
        {
          "name": "stdout",
          "output_type": "stream",
          "text": [
            "<terminated>\n",
            "Simulation complete!\n"
          ]
        }
      ],
      "source": [
        "# Run the environment with the trained agent!\n",
        "env = MockEnv()\n",
        "action = 1\n",
        "rewards = []\n",
        "\n",
        "for i in range(1000):\n",
        "    observation, reward, terminated, truncated, info = env.step(action)\n",
        "    rewards.append(reward)\n",
        "    \n",
        "    with torch.no_grad():\n",
        "        network_output = policy_net(observation.unsqueeze(0).to(device))\n",
        "        action = network_output.max(1)[1].view(1, 1).item()\n",
        "    \n",
        "    plt.pause(0.02)\n",
        "    if is_ipython:\n",
        "        display.display(plt.gcf())\n",
        "        display.clear_output(wait=True)\n",
        "        \n",
        "    # Render the environment\n",
        "    env.render()\n",
        "    plt.title(\"Reward vs time\")\n",
        "    plt.plot(rewards)\n",
        "    plt.show()\n",
        "\n",
        "    if terminated or truncated:\n",
        "        print(\"<terminated>\")\n",
        "        break\n",
        "        \n",
        "print(\"Simulation complete!\")"
      ]
    },
    {
      "cell_type": "code",
      "execution_count": null,
      "metadata": {
        "id": "mG852LCibt9K",
        "outputId": "e1587bf0-1c23-4a65-de7f-ab29d0323972"
      },
      "outputs": [
        {
          "name": "stderr",
          "output_type": "stream",
          "text": [
            "C:\\Users\\EvanC\\AppData\\Local\\Temp/ipykernel_14296/2756469563.py:6: DeprecationWarning: Starting with ImageIO v3 the behavior of this function will switch to that of iio.v3.imread. To keep the current behavior (and make this warning disappear) use `import imageio.v2 as imageio` or call `imageio.v2.imread` directly.\n",
            "  image = imageio.imread(image_name)\n"
          ]
        }
      ],
      "source": [
        "# Make a gif\n",
        "if SAVE_FRAMES:\n",
        "    images = []\n",
        "    for i in range(1, 32):\n",
        "        image_name = f\"sogm_{i}.png\"\n",
        "        image = imageio.imread(image_name)\n",
        "        images.append(image)\n",
        "        os.remove(image_name)\n",
        "imageio.mimsave(\"sogm_animation.gif\", images, fps=2)"
      ]
    },
    {
      "cell_type": "code",
      "execution_count": null,
      "metadata": {
        "id": "tSHweqLbCZiP"
      },
      "outputs": [],
      "source": []
    }
  ],
  "metadata": {
    "accelerator": "GPU",
    "colab": {
      "provenance": []
    },
    "gpuClass": "standard",
    "kernelspec": {
      "display_name": "Python 3",
      "name": "python3"
    },
    "language_info": {
      "name": "python"
    }
  },
  "nbformat": 4,
  "nbformat_minor": 0
}